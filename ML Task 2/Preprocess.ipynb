{
 "cells": [
  {
   "cell_type": "code",
   "execution_count": 3,
   "metadata": {},
   "outputs": [
    {
     "name": "stdout",
     "output_type": "stream",
     "text": [
      "Rows Dropped: 0\n",
      "Training Data Shape: (4457, 5000)\n",
      "Test Data Shape: (1115, 5000)\n",
      "Label Encoded Classes: ['ham' 'spam']\n"
     ]
    }
   ],
   "source": [
    "import pandas as pd\n",
    "from sklearn.model_selection import train_test_split\n",
    "from sklearn.preprocessing import LabelEncoder\n",
    "from sklearn.feature_extraction.text import TfidfVectorizer\n",
    "\n",
    "# Load the dataset\n",
    "file_path = 'spam.csv'  # Update this path with your actual file path\n",
    "data = pd.read_csv(file_path, encoding='latin1')  # Adjust encoding if necessary\n",
    "\n",
    "# Count total rows before cleaning\n",
    "initial_row_count = len(data)\n",
    "\n",
    "# Drop rows with missing values\n",
    "data = data.dropna()\n",
    "\n",
    "# Count total rows after cleaning and calculate rows dropped\n",
    "final_row_count = len(data)\n",
    "rows_dropped = initial_row_count - final_row_count\n",
    "\n",
    "# Encode the 'Category' column\n",
    "label_encoder = LabelEncoder()\n",
    "data['Category_encoded'] = label_encoder.fit_transform(data['Category'])\n",
    "\n",
    "# Split the data into features (X) and target (y)\n",
    "X = data['Message']\n",
    "y = data['Category_encoded']\n",
    "\n",
    "# Split into training and test sets (80-20 split)\n",
    "X_train, X_test, y_train, y_test = train_test_split(\n",
    "    X, y, test_size=0.2, random_state=42, stratify=y\n",
    ")\n",
    "\n",
    "# Initialize TF-IDF Vectorizer\n",
    "tfidf_vectorizer = TfidfVectorizer(stop_words='english', max_features=5000)\n",
    "\n",
    "# Fit and transform the training data, transform the test data\n",
    "X_train_tfidf = tfidf_vectorizer.fit_transform(X_train)\n",
    "X_test_tfidf = tfidf_vectorizer.transform(X_test)\n",
    "\n",
    "# Output shapes and encoded labels for reference\n",
    "print(f\"Rows Dropped: {rows_dropped}\")\n",
    "print(f\"Training Data Shape: {X_train_tfidf.shape}\")\n",
    "print(f\"Test Data Shape: {X_test_tfidf.shape}\")\n",
    "print(f\"Label Encoded Classes: {label_encoder.classes_}\")"
   ]
  }
 ],
 "metadata": {
  "kernelspec": {
   "display_name": "Python 3",
   "language": "python",
   "name": "python3"
  },
  "language_info": {
   "codemirror_mode": {
    "name": "ipython",
    "version": 3
   },
   "file_extension": ".py",
   "mimetype": "text/x-python",
   "name": "python",
   "nbconvert_exporter": "python",
   "pygments_lexer": "ipython3",
   "version": "3.9.13"
  }
 },
 "nbformat": 4,
 "nbformat_minor": 2
}
